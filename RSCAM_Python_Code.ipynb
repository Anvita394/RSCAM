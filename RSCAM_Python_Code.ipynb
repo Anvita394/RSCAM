{
  "nbformat": 4,
  "nbformat_minor": 0,
  "metadata": {
    "colab": {
      "name": "RSCAM_Python_Code.ipynb",
      "version": "0.3.2",
      "provenance": [],
      "toc_visible": true
    },
    "kernelspec": {
      "name": "python3",
      "display_name": "Python 3"
    }
  },
  "cells": [
    {
      "metadata": {
        "id": "zaa7a-2F_nMq",
        "colab_type": "text"
      },
      "cell_type": "markdown",
      "source": [
        "# Role of Metropolisation in Sampling Schemes\n",
        "-----------"
      ]
    },
    {
      "metadata": {
        "id": "qVqwPRH93XZN",
        "colab_type": "text"
      },
      "cell_type": "markdown",
      "source": [
        "# Functions"
      ]
    },
    {
      "metadata": {
        "id": "nanmEUoB__T9",
        "colab_type": "text"
      },
      "cell_type": "markdown",
      "source": [
        "## Packages"
      ]
    },
    {
      "metadata": {
        "id": "63AffD03_3yS",
        "colab_type": "code",
        "colab": {}
      },
      "cell_type": "code",
      "source": [
        "import numpy as np\n",
        "import matplotlib.pyplot as plt\n",
        "import matplotlib as mpl\n",
        "import scipy.stats as stats\n",
        "import scipy.special as special\n",
        "import pandas as pd\n",
        "import datetime\n"
      ],
      "execution_count": 0,
      "outputs": []
    },
    {
      "metadata": {
        "id": "vBdCoNACG3Q_",
        "colab_type": "text"
      },
      "cell_type": "markdown",
      "source": [
        "## Sampling schemes"
      ]
    },
    {
      "metadata": {
        "id": "AKmZQnu6nQQ0",
        "colab_type": "code",
        "colab": {}
      },
      "cell_type": "code",
      "source": [
        "def EulerMaruyama(q0, h, force, y, beta): \n",
        "    \n",
        "    walkers = q0.shape[0]\n",
        "    width = q0.shape[1]\n",
        "    \n",
        "    R_t = np.random.randn(walkers, width)\n",
        "    \n",
        "    q_t = q0 + h*force(q0,y) + np.sqrt(2*h/beta) * R_t\n",
        "\n",
        "    return q_t, np.ones(walkers)"
      ],
      "execution_count": 0,
      "outputs": []
    },
    {
      "metadata": {
        "id": "xnRDLSVanHgP",
        "colab_type": "code",
        "colab": {}
      },
      "cell_type": "code",
      "source": [
        "def MALA(q0, h, force, y, beta):\n",
        "\n",
        "    q_t = q0\n",
        "    walkers = q0.shape[0]\n",
        "    width = q0.shape[1]\n",
        "    \n",
        "    R_t = np.random.randn(walkers, width)\n",
        "    S_t = np.log(np.random.rand(walkers))\n",
        "    q_tp1 = q_t + h*force(q_t, y) + np.sqrt(2*h/beta) * R_t\n",
        "\n",
        "    q_tp1 = np.array(q_tp1)\n",
        "    q_t = np.array(q_t)\n",
        "    \n",
        "    accept = S_t < np.minimum(np.zeros(walkers),\n",
        "                             ((rho_log(q_tp1,y,beta) +\n",
        "                             prop_dist_log(q_t,q_tp1,h,force,y, beta)) - \n",
        "                             (rho_log(q_t,y, beta) +\n",
        "                             prop_dist_log(q_tp1,q_t,h,force,y,beta))))\n",
        "\n",
        "    q_t[accept] = q_tp1[accept]\n",
        "\n",
        "    return q_t, accept\n",
        "  \n",
        "def rho_log(q, y, beta):\n",
        "\n",
        "    return -beta*U(q,y)\n",
        "  \n",
        "def prop_dist_log(x1, x2, h, force, y, beta):\n",
        "    \n",
        "    val = -(beta/(4*h))*(np.linalg.norm(x1-x2-h*force(x2,y),axis=1)**2)\n",
        "    \n",
        "    return val"
      ],
      "execution_count": 0,
      "outputs": []
    },
    {
      "metadata": {
        "id": "nja4b_aUl1mY",
        "colab_type": "code",
        "colab": {}
      },
      "cell_type": "code",
      "source": [
        "def Heun(q0, h, force, y, beta):\n",
        "    \n",
        "    walkers = q0.shape[0]\n",
        "    width = q0.shape[1]\n",
        "    \n",
        "    R_t = np.random.randn(walkers, width)\n",
        "    \n",
        "    q_hat = q0 + h*force(q0,y) + np.sqrt(2*h/beta) * R_t\n",
        "    \n",
        "    q_t = q0 + (h/2)*(force(q_hat, y) + force(q0,y)) + np.sqrt(2*h/beta) * R_t\n",
        "    \n",
        "    return q_t, np.ones(walkers)"
      ],
      "execution_count": 0,
      "outputs": []
    },
    {
      "metadata": {
        "id": "Bi948Cw6nUFV",
        "colab_type": "code",
        "colab": {}
      },
      "cell_type": "code",
      "source": [
        "def run_simulation( q0, Nsteps, h, step_function, force_function, y, beta=1):\n",
        "    q_traj = [np.copy(q0)] \n",
        "    t_traj = [0]\n",
        "    \n",
        "    q = np.copy(q0) \n",
        "    t = 0 \n",
        "    accepted = np.zeros(q0.shape[0])\n",
        "    \n",
        "    for n in range(Nsteps):\n",
        "        q, acc = step_function(q, h, force_function, y, beta)\n",
        "        t = t + h \n",
        "\n",
        "        q_traj += [q]   \n",
        "        t_traj += [t] \n",
        "        \n",
        "        accepted += acc\n",
        "    \n",
        "    q_traj = np.array(q_traj) \n",
        "    t_traj = np.array(t_traj)\n",
        "    \n",
        "    acceptance_rate = accepted / Nsteps\n",
        "\n",
        "    return q_traj, t_traj, acceptance_rate"
      ],
      "execution_count": 0,
      "outputs": []
    },
    {
      "metadata": {
        "id": "4o7TFeuzwljq",
        "colab_type": "text"
      },
      "cell_type": "markdown",
      "source": [
        "## Autocorrelation function"
      ]
    },
    {
      "metadata": {
        "id": "k4wm_T0gwqBB",
        "colab_type": "code",
        "colab": {}
      },
      "cell_type": "code",
      "source": [
        "def acf(Phi,kmax):\n",
        "\n",
        "    ac = np.zeros([kmax,Phi.shape[1]])\n",
        "    mean_i = np.mean(Phi,axis=0)\n",
        "    \n",
        "    for k in range(kmax):\n",
        "        Phi_shift = Phi[0:len(Phi)-k,:]\n",
        "        ac[k] = np.mean((Phi[k:len(Phi),:] - mean_i)*\n",
        "                        (Phi_shift - mean_i),axis=0)/np.mean((Phi - mean_i)**2,axis=0)\n",
        "    \n",
        "    return ac"
      ],
      "execution_count": 0,
      "outputs": []
    },
    {
      "metadata": {
        "id": "n49nMe9jwki6",
        "colab_type": "code",
        "colab": {}
      },
      "cell_type": "code",
      "source": [
        "def acf_1d_fast(Phi,kmax,acf_min = -1,burn_in = 0.1):\n",
        "\n",
        "    Phi = Phi[int(burn_in*len(Phi)):len(Phi)]\n",
        "    ac = np.zeros(kmax)\n",
        "    mean_i = np.mean(Phi)\n",
        "    for k in range(kmax):\n",
        "        Phi_shift = Phi[0:len(Phi)-k]\n",
        "        \n",
        "        ac[k] = np.mean((Phi[k:len(Phi)] - mean_i) * \n",
        "                        (Phi_shift - mean_i))/np.mean((Phi-mean_i)**2)\n",
        "        if ac[k] < acf_min:\n",
        "            break\n",
        "            \n",
        "    return ac"
      ],
      "execution_count": 0,
      "outputs": []
    },
    {
      "metadata": {
        "id": "r2vOYyWlnZB8",
        "colab_type": "text"
      },
      "cell_type": "markdown",
      "source": [
        "# Sampling 1-D Case: Single Well"
      ]
    },
    {
      "metadata": {
        "id": "kzk-1EHqnlWE",
        "colab_type": "text"
      },
      "cell_type": "markdown",
      "source": [
        "## Force function and potential energy"
      ]
    },
    {
      "metadata": {
        "id": "6Rj4USTMngV0",
        "colab_type": "code",
        "colab": {}
      },
      "cell_type": "code",
      "source": [
        "def force_Gaussian(q,y):\n",
        "\n",
        "    F = -q \n",
        "    \n",
        "    return F\n",
        "    \n",
        "def U(q,y):\n",
        "\n",
        "    V = q**2 /2\n",
        "    V = V[:,0]\n",
        "    \n",
        "    return V"
      ],
      "execution_count": 0,
      "outputs": []
    },
    {
      "metadata": {
        "id": "RJ07Fv0ZopMP",
        "colab_type": "code",
        "colab": {}
      },
      "cell_type": "code",
      "source": [
        "# Generate a mixed Gaussian\n",
        "N = 1000\n",
        "a = 5+np.random.randn(int(N*0.2))\n",
        "b = 8+np.random.randn(int(N*0.2))\n",
        "c = 12+np.random.randn(int(N*0.4))\n",
        "Y = np.concatenate((a, b, c), axis=0)"
      ],
      "execution_count": 0,
      "outputs": []
    },
    {
      "metadata": {
        "id": "6duiajYsnobl",
        "colab_type": "text"
      },
      "cell_type": "markdown",
      "source": [
        "## Run simulation and plot the distribution"
      ]
    },
    {
      "metadata": {
        "id": "CA6lwNVwno4U",
        "colab_type": "code",
        "colab": {}
      },
      "cell_type": "code",
      "source": [
        "q0 = np.random.rand(100,1)*3\n",
        "\n",
        "h_range = [2**x for x in range(-8,-4)]\n",
        "Nsteps = 10000\n",
        "\n",
        "beta =1\n",
        "\n",
        "i=0\n",
        "\n",
        "err_EM = np.zeros([len(h_range),q0.shape[1]])\n",
        "err_MALA = np.zeros([len(h_range),q0.shape[1]])\n",
        "for h in h_range:\n",
        "    print(h)\n",
        "    \n",
        "    start_time = datetime.datetime.now()\n",
        "    q_traj_EM, t_traj, acc_rate = run_simulation( q0 , Nsteps, h,  EulerMaruyama, force_Gaussian, Y, beta)\n",
        "    end_time = datetime.datetime.now()\n",
        "    print('EM done')\n",
        "    print('time taken:'+str(end_time-start_time))\n",
        "   \n",
        "    start_time = datetime.datetime.now()\n",
        "    q_traj_MALA, t_traj, acc_rate = run_simulation( q0 , Nsteps, h,  MALA, force_Gaussian, Y, beta)\n",
        "    print('MALA done')\n",
        "    print('mean acceptance rate of walkers = '+str(np.mean(acc_rate)))\n",
        "    print('time taken:'+str(end_time-start_time))\n",
        "    \n",
        "    \n",
        "    start_time = datetime.datetime.now()\n",
        "    q_traj_Heun, t_traj, acc_rate = run_simulation( q0 , Nsteps, h,  Heun, force_Gaussian, Y, beta)\n",
        "    end_time = datetime.datetime.now()\n",
        "    print('Heun done')\n",
        "    print('time taken:'+str(end_time-start_time))\n",
        "    \n",
        "    q_span = np.linspace(-2.5,2.5,100)\n",
        "    Uq = (q_span**2)/2\n",
        "    Z_beta = np.sqrt(np.pi*2/beta) # using wolfram alpha\n",
        "    rho = np.exp(- 1 * Uq ) / Z_beta\n",
        "    plt.plot( q_span, rho,':k',linewidth=3,label='Target rho_beta')\n",
        "    \n",
        "    histogram,bins = np.histogram(q_traj_EM,bins=50,density=True)\n",
        "    midx = (bins[0:-1]+bins[1:])/2\n",
        "    plt.plot(midx,histogram,label='Euler-Maruyama')\n",
        "    \n",
        "    histogram,bins = np.histogram(q_traj_MALA,bins=50,density=True)\n",
        "    midx = (bins[0:-1]+bins[1:])/2\n",
        "    plt.plot(midx,histogram,label='MALA')\n",
        "    \n",
        "    histogram,bins = np.histogram(q_traj_Heun,bins=50,density=True)\n",
        "    midx = (bins[0:-1]+bins[1:])/2\n",
        "    plt.plot(midx,histogram,label='Heun')\n",
        "    \n",
        "    plt.title('h = '+str(h)+' starting unif(0,3)')\n",
        "    plt.legend()\n",
        "    plt.show()\n",
        "    \n",
        "    i+=1"
      ],
      "execution_count": 0,
      "outputs": []
    },
    {
      "metadata": {
        "id": "3BUFy43J3qBy",
        "colab_type": "text"
      },
      "cell_type": "markdown",
      "source": [
        "## ACF plot"
      ]
    },
    {
      "metadata": {
        "id": "_CXol5k53s9j",
        "colab_type": "code",
        "colab": {}
      },
      "cell_type": "code",
      "source": [
        "kmax = int(q_traj_EM.shape[0]*0.3)\n",
        "\n",
        "for i in range(q_traj_EM.shape[2]):\n",
        "    plt.plot(np.arange(kmax),np.mean(acf(q_traj_EM[:,:,i],kmax),axis=1),label='EM - $\\mu$'+str(i))\n",
        "for i in range(q_traj_MALA.shape[2]):\n",
        "    plt.plot(np.arange(kmax),np.mean(acf(q_traj_MALA[:,:,i],kmax),axis=1),label='MALA - $\\mu$'+str(i))\n",
        "for i in range(q_traj_MALA.shape[2]):\n",
        "    plt.plot(np.arange(kmax),np.mean(acf(q_traj_Heun[:,:,i],kmax),axis=1),label='Heun - $\\mu$'+str(i))\n",
        "\n",
        "plt.legend()\n",
        "plt.title('Single Well - starting unif(0,3) - Mean ACF for $\\mu$ over '+str(q_traj_EM.shape[1])+' walkers')\n",
        "plt.xlabel('k shift')\n",
        "plt.ylabel('acf')\n",
        "plt.show()"
      ],
      "execution_count": 0,
      "outputs": []
    },
    {
      "metadata": {
        "id": "Iiugtnzkx7T3",
        "colab_type": "text"
      },
      "cell_type": "markdown",
      "source": [
        "## Optimal acceptance rate and step size (MALA)"
      ]
    },
    {
      "metadata": {
        "id": "s190JSwnx_Ax",
        "colab_type": "code",
        "colab": {}
      },
      "cell_type": "code",
      "source": [
        "q0 = np.random.rand(30,1)\n",
        "h = 0.0001 \n",
        "\n",
        "h_range = np.concatenate((np.arange(0.001,1,0.02),np.arange(0.9,1,0.01),np.arange(1,10,0.2)))\n",
        "\n",
        "beta = 0.1\n",
        "tau = []\n",
        "acceptance = []\n",
        "Nsteps = 500\n",
        "\n",
        "for h in h_range:\n",
        "    print('h='+str(h))\n",
        "\n",
        "    start_time = datetime.datetime.now()\n",
        "    q_traj, t_traj,acc_rate = run_simulation( q0 , Nsteps, h,  MALA, force_Gaussian, Y,beta)\n",
        "    end_time = datetime.datetime.now()\n",
        "    \n",
        "    q_traj_MALA = q_traj\n",
        "    acceptance += [np.mean(acc_rate)]\n",
        "    \n",
        "    print('MALA_done, h='+str(h))\n",
        "    print('acceptance: '+str(acceptance[-1]))\n",
        "    print('time taken: '+str(end_time-start_time))\n",
        "\n",
        "    \n",
        "    histogram,bins = np.histogram(q_traj_MALA,bins=50,density=True)\n",
        "    midx = (bins[0:-1]+bins[1:])/2\n",
        "    plt.plot(midx,histogram,label='MALA - h='+str(h))\n",
        "    \n",
        "    Phi = np.mean(q_traj,axis=1)\n",
        "\n",
        "    start_time = datetime.datetime.now()\n",
        "    ac = acf_1d_fast(Phi,int(Nsteps*0.8),0.01,0.1)\n",
        "    tau_Phi = 1 + 2*sum(ac)\n",
        "    end_time = datetime.datetime.now()\n",
        "    \n",
        "    print('tau='+str(tau_Phi))\n",
        "    print('time taken:'+str(end_time-start_time))\n",
        "    \n",
        "    tau += [tau_Phi]\n",
        "    \n",
        "    print('compare var ='+str(np.var(np.mean(q_traj,axis=0))))\n",
        "    print('with '+str(tau_Phi/Nsteps))\n",
        "    print('\\n')"
      ],
      "execution_count": 0,
      "outputs": []
    },
    {
      "metadata": {
        "id": "uvYI1I5QyNxP",
        "colab_type": "code",
        "colab": {}
      },
      "cell_type": "code",
      "source": [
        "fig = plt.figure(figsize=[8,6])\n",
        "plt.semilogy()\n",
        "plt.scatter(acceptance,np.array(tau)/Nsteps)\n",
        "plt.xlabel('acceptance')\n",
        "plt.ylabel('tau /N')\n",
        "plt.title('Optimal Acceptance Rate - Single well, beta='+str(beta)+' - MALA, '+str(Nsteps)+' steps')\n",
        "plt.show()"
      ],
      "execution_count": 0,
      "outputs": []
    },
    {
      "metadata": {
        "id": "3yFjSKMLyaXl",
        "colab_type": "code",
        "colab": {}
      },
      "cell_type": "code",
      "source": [
        "fig = plt.figure(figsize=[8,6])\n",
        "plt.semilogy()\n",
        "plt.scatter(h_range,np.array(tau)/Nsteps)\n",
        "plt.xlabel('h')\n",
        "plt.ylabel('tau /N')\n",
        "plt.title('Optimal Step Size - Single well, beta='+str(beta)+' - MALA, '+str(Nsteps)+' steps')\n",
        "plt.show()"
      ],
      "execution_count": 0,
      "outputs": []
    },
    {
      "metadata": {
        "id": "I9cA2d3KzxEL",
        "colab_type": "text"
      },
      "cell_type": "markdown",
      "source": [
        "## KL divergence and L2 error"
      ]
    },
    {
      "metadata": {
        "id": "Chpfxtmezz-0",
        "colab_type": "code",
        "colab": {}
      },
      "cell_type": "code",
      "source": [
        "q0 = np.zeros([1000,1])\n",
        "h_range = np.linspace(0.3,0.8, 100)\n",
        "T = 2*10**1\n",
        "\n",
        "KL_EM = np.zeros(len(h_range))\n",
        "KL_Heun = np.zeros(len(h_range))\n",
        "KL_MALA = np.zeros(len(h_range))\n",
        "L2_EM = np.zeros(len(h_range))\n",
        "L2_Heun = np.zeros(len(h_range))\n",
        "L2_MALA = np.zeros(len(h_range))\n",
        "\n",
        "beta = 1\n",
        "\n",
        "Z_beta = 2.50662\n",
        "\n",
        "i=0\n",
        "err_EM = np.zeros([len(h_range),q0.shape[1]])\n",
        "err_MALA = np.zeros([len(h_range),q0.shape[1]])\n",
        "err_Heun = np.zeros([len(h_range),q0.shape[1]])\n",
        "\n",
        "for h in h_range:\n",
        "    print(h)\n",
        "    Nsteps = 1000\n",
        "    \n",
        "    start_time = datetime.datetime.now()\n",
        "    q_traj_EM, t_traj, acc = run_simulation( q0 , Nsteps, h,  EulerMaruyama, force_Gaussian, Y, beta)\n",
        "    end_time = datetime.datetime.now()\n",
        "    print('EM done')\n",
        "    print('time taken:'+str(end_time-start_time))\n",
        "    \n",
        "    start_time = datetime.datetime.now()\n",
        "    q_traj_MALA, t_traj, acc = run_simulation( q0 , Nsteps, h,  MALA, force_Gaussian, Y, beta)\n",
        "    end_time = datetime.datetime.now()\n",
        "    print('MALA done')\n",
        "    print('time taken:'+str(end_time-start_time))\n",
        "    \n",
        "    start_time = datetime.datetime.now()\n",
        "    q_traj_Heun, t_traj, acc = run_simulation( q0 , Nsteps, h,  Heun, force_Gaussian, Y, beta)\n",
        "    end_time = datetime.datetime.now()\n",
        "    print('Heun done')\n",
        "    print('time taken:'+str(end_time-start_time))\n",
        "\n",
        "    \n",
        "    histogram,bins = np.histogram(q_traj_EM,bins=50,density=True)\n",
        "    midx = (bins[0:-1]+bins[1:])/2\n",
        "    a = (midx**2)/2\n",
        "    rho = np.exp(- beta * a ) / Z_beta\n",
        "    L2_EM[i] = np.linalg.norm(histogram-rho)\n",
        "    KL_EM[i] = stats.entropy(rho, histogram)    \n",
        "    \n",
        "    q_span = np.linspace(-2.5, 2.5,100)\n",
        "    Uq = (q_span**2)/2\n",
        "    rho = np.exp(- beta * Uq ) / Z_beta\n",
        "    \n",
        "    histogram,bins = np.histogram(q_traj_MALA,bins=50,density=True)\n",
        "    midx = (bins[0:-1]+bins[1:])/2\n",
        "    a = (midx**2)/2\n",
        "    rho = np.exp(- beta * a ) / Z_beta\n",
        "    L2_MALA[i] = np.linalg.norm(histogram-rho)\n",
        "    KL_MALA[i] = stats.entropy(rho, histogram)\n",
        "    \n",
        "    histogram,bins = np.histogram(q_traj_Heun,bins=50,density=True)\n",
        "    midx = (bins[0:-1]+bins[1:])/2\n",
        "    a = (midx**2)/2\n",
        "    rho = np.exp(- beta * a ) / Z_beta\n",
        "    L2_Heun[i] = np.linalg.norm(histogram-rho)\n",
        "    KL_Heun[i] = stats.entropy(rho, histogram)\n",
        "    \n",
        "    i+=1"
      ],
      "execution_count": 0,
      "outputs": []
    },
    {
      "metadata": {
        "id": "BKmbOKLi0EgB",
        "colab_type": "code",
        "colab": {}
      },
      "cell_type": "code",
      "source": [
        "# Plotting KL divergence\n",
        "fig = plt.figure(figsize = [8,6])\n",
        "plt.semilogy(h_range, pow(np.array(h_range), 1),'b--', label = '$O(h^2)$')\n",
        "plt.semilogy(h_range, pow(np.array(h_range), 4),'g--', label = '$O(h^4)$')\n",
        "plt.scatter(h_range, KL_EM, label = 'EM')\n",
        "plt.scatter(h_range, KL_MALA, label = 'MALA')\n",
        "plt.scatter(h_range, KL_Heun, label = 'Heun')\n",
        "plt.title('$L_2$ Error- Double Well \\n beta={} \\n Nsteps = {}'.format(beta, Nsteps))\n",
        "plt.xlabel('Stepsize')\n",
        "plt.ylabel('$L_2$ Error')\n",
        "plt.legend()\n",
        "plt.show()\n",
        "\n",
        "\n",
        "# Plotting L_2 Error\n",
        "fig = plt.figure(figsize = [8,6])\n",
        "plt.semilogy(h_range, pow(np.array(h_range), 1),'b--', label = '$O(h)$')\n",
        "plt.semilogy(h_range, pow(np.array(h_range), 2),'g--', label = '$O(h^2)$')\n",
        "plt.scatter(h_range, L2_EM, label = 'EM')\n",
        "plt.scatter(h_range, L2_MALA, label = 'MALA')\n",
        "plt.scatter(h_range, L2_Heun, label = 'Heun')\n",
        "plt.title('$L_2$ Error- Double Well \\n beta={} \\n Nsteps = {}'.format(beta, Nsteps))\n",
        "plt.xlabel('Stepsize')\n",
        "plt.ylabel('$L_2$ Error')\n",
        "plt.legend()\n",
        "plt.show()"
      ],
      "execution_count": 0,
      "outputs": []
    },
    {
      "metadata": {
        "id": "uMsqeFRApoQ0",
        "colab_type": "text"
      },
      "cell_type": "markdown",
      "source": [
        "# Sampling 1-D Case: Double Well"
      ]
    },
    {
      "metadata": {
        "id": "3IraNocupp1S",
        "colab_type": "text"
      },
      "cell_type": "markdown",
      "source": [
        "## Force function and potential energy"
      ]
    },
    {
      "metadata": {
        "id": "7FARGqdTpo0y",
        "colab_type": "code",
        "colab": {}
      },
      "cell_type": "code",
      "source": [
        "def DoubleWellForce(q,y):\n",
        "\n",
        "    F = -8*q*(q**2-1)\n",
        "\n",
        "    return F\n",
        "\n",
        "def U(q,y):\n",
        "\n",
        "    V = 2*(q**2 - 1)**2\n",
        "    V = V[:,0]\n",
        "    \n",
        "    return V"
      ],
      "execution_count": 0,
      "outputs": []
    },
    {
      "metadata": {
        "id": "n0ygKoDepzXk",
        "colab_type": "text"
      },
      "cell_type": "markdown",
      "source": [
        "## Run simulation and plot the distribution"
      ]
    },
    {
      "metadata": {
        "id": "Pfl7NTW3p1vS",
        "colab_type": "code",
        "colab": {}
      },
      "cell_type": "code",
      "source": [
        "q0 = np.random.rand(100,1) *3\n",
        "h_range = [2**x for x in range(-8,-4)]\n",
        "Nsteps = 10000\n",
        "\n",
        "beta = 1\n",
        "\n",
        "i=0\n",
        "err_EM = np.zeros([len(h_range),q0.shape[1]])\n",
        "err_MALA = np.zeros([len(h_range),q0.shape[1]])\n",
        "for h in h_range:\n",
        "    print(h)\n",
        "    start_time = datetime.datetime.now()\n",
        "    q_traj_EM, t_traj, acc_rate = run_simulation( q0 , Nsteps, h,  EulerMaruyama, DoubleWellForce, Y, beta)\n",
        "    end_time = datetime.datetime.now()\n",
        "    print('EM done')\n",
        "    print('time taken:'+str(end_time-start_time))\n",
        "    \n",
        "    start_time = datetime.datetime.now()\n",
        "    q_traj_MALA, t_traj, acc_rate = run_simulation( q0 , Nsteps, h,  MALA, DoubleWellForce, Y, beta)\n",
        "    end_time = datetime.datetime.now()\n",
        "    print('MALA done')\n",
        "    print('mean acceptance rate of walkers = '+str(np.mean(acc_rate)))\n",
        "    print('time taken:'+str(end_time-start_time))\n",
        "\n",
        "    start_time = datetime.datetime.now()\n",
        "    q_traj_Heun, t_traj, acc_rate = run_simulation( q0 , Nsteps, h,  Heun, DoubleWellForce, Y, beta)\n",
        "    end_time = datetime.datetime.now()\n",
        "    print('Heun done')\n",
        "    print('time taken:'+str(end_time-start_time))\n",
        "    \n",
        "    \n",
        "    q_span = np.linspace(-2.5,2.5,100)\n",
        "    Uq = 2*(q_span**2-1)**2\n",
        "    Z_beta = 0.5*np.pi*np.exp(-beta)*(special.iv(-0.25,beta) + special.iv(0.25,beta)) # using wolfram alpha\n",
        "    rho = np.exp(- 1 * Uq ) / Z_beta\n",
        "    plt.plot( q_span, rho,':k',linewidth=3,label='Target rho_beta')\n",
        "    \n",
        "    histogram,bins = np.histogram(q_traj_EM,bins=50,density=True)\n",
        "    midx = (bins[0:-1]+bins[1:])/2\n",
        "    plt.plot(midx,histogram,label='Euler-Maruyama')\n",
        "    \n",
        "    histogram,bins = np.histogram(q_traj_MALA,bins=50,density=True)\n",
        "    midx = (bins[0:-1]+bins[1:])/2\n",
        "    plt.plot(midx,histogram,label='MALA')\n",
        "    plt.title('h = '+str(h)+' starting at unif(0,3)')\n",
        "    plt.legend()\n",
        "    plt.show()\n",
        "    \n",
        "    i+=1"
      ],
      "execution_count": 0,
      "outputs": []
    },
    {
      "metadata": {
        "id": "lkO7Cp5v4IZb",
        "colab_type": "text"
      },
      "cell_type": "markdown",
      "source": [
        "## ACF plot"
      ]
    },
    {
      "metadata": {
        "id": "F-H_5BtV4KUD",
        "colab_type": "code",
        "colab": {}
      },
      "cell_type": "code",
      "source": [
        "kmax = int(q_traj_EM.shape[0]*0.3)\n",
        "\n",
        "for i in range(q_traj_EM.shape[2]):\n",
        "    plt.plot(np.arange(kmax),np.mean(acf(q_traj_EM[:,:,i],kmax),axis=1),label='EM - $\\mu$'+str(i))\n",
        "for i in range(q_traj_MALA.shape[2]):\n",
        "    plt.plot(np.arange(kmax),np.mean(acf(q_traj_MALA[:,:,i],kmax),axis=1),label='MALA - $\\mu$'+str(i))\n",
        "for i in range(q_traj_MALA.shape[2]):\n",
        "    plt.plot(np.arange(kmax),np.mean(acf(q_traj_Heun[:,:,i],kmax),axis=1),label='Heun - $\\mu$'+str(i))\n",
        "\n",
        "plt.legend()\n",
        "plt.title('Double Well - starting unif(0,3) - Mean ACF for $\\mu$ over '+str(q_traj_EM.shape[1])+' walkers')\n",
        "plt.xlabel('k shift')\n",
        "plt.ylabel('acf')\n",
        "plt.show()"
      ],
      "execution_count": 0,
      "outputs": []
    },
    {
      "metadata": {
        "id": "vHKSW-kXvUlw",
        "colab_type": "text"
      },
      "cell_type": "markdown",
      "source": [
        "## Optimal acceptance rate and step size ( MALA)"
      ]
    },
    {
      "metadata": {
        "id": "1hbEZCvbvXHJ",
        "colab_type": "code",
        "colab": {}
      },
      "cell_type": "code",
      "source": [
        "q0 = np.random.rand(30,1)\n",
        "h = 0.0001 \n",
        "\n",
        "h_range = np.concatenate((np.arange(0.001,1,0.02),np.arange(0.9,1,0.01),np.arange(1,10,0.2)))\n",
        "\n",
        "beta = 0.1\n",
        "tau = []\n",
        "acceptance = []\n",
        "Nsteps = 500\n",
        "\n",
        "for h in h_range:\n",
        "    print('h='+str(h))\n",
        "\n",
        "    start_time = datetime.datetime.now()\n",
        "    q_traj, t_traj,acc_rate = run_simulation( q0 , Nsteps, h,  MALA, DoubleWellForce, Y,beta)\n",
        "    end_time = datetime.datetime.now()\n",
        "    \n",
        "    q_traj_MALA = q_traj\n",
        "    acceptance += [np.mean(acc_rate)]\n",
        "    \n",
        "    print('MALA_done, h='+str(h))\n",
        "    print('acceptance: '+str(acceptance[-1]))\n",
        "    print('time taken: '+str(end_time-start_time))\n",
        "\n",
        "    \n",
        "    histogram,bins = np.histogram(q_traj_MALA,bins=50,density=True)\n",
        "    midx = (bins[0:-1]+bins[1:])/2\n",
        "    plt.plot(midx,histogram,label='MALA - h='+str(h))\n",
        "    \n",
        "    Phi = np.mean(q_traj,axis=1)\n",
        "\n",
        "    start_time = datetime.datetime.now()\n",
        "    ac = acf_1d_fast(Phi,int(Nsteps*0.8),0.01,0.1)\n",
        "    tau_Phi = 1 + 2*sum(ac)\n",
        "    end_time = datetime.datetime.now()\n",
        "    \n",
        "    print('tau='+str(tau_Phi))\n",
        "    print('time taken:'+str(end_time-start_time))\n",
        "    \n",
        "    tau += [tau_Phi]\n",
        "    \n",
        "    print('compare var ='+str(np.var(np.mean(q_traj,axis=0))))\n",
        "    print('with '+str(tau_Phi/Nsteps))\n",
        "    print('\\n')"
      ],
      "execution_count": 0,
      "outputs": []
    },
    {
      "metadata": {
        "id": "imalHPeuxEsn",
        "colab_type": "code",
        "colab": {}
      },
      "cell_type": "code",
      "source": [
        "fig = plt.figure(figsize=[8,6])\n",
        "plt.semilogy()\n",
        "plt.scatter(acceptance,np.array(tau)/Nsteps)\n",
        "plt.xlabel('acceptance')\n",
        "plt.ylabel('tau /N')\n",
        "plt.title('Optimal Acceptance Rate - Double well, beta='+str(beta)+' - MALA, '+str(Nsteps)+' steps')\n",
        "plt.show()"
      ],
      "execution_count": 0,
      "outputs": []
    },
    {
      "metadata": {
        "id": "wm3fuW3RxK3v",
        "colab_type": "code",
        "colab": {}
      },
      "cell_type": "code",
      "source": [
        "fig = plt.figure(figsize=[8,6])\n",
        "plt.semilogy()\n",
        "plt.scatter(h_range,np.array(tau)/Nsteps)\n",
        "plt.xlabel('h')\n",
        "plt.ylabel('tau /N')\n",
        "plt.title('Optimal Step Size - Double well, beta='+str(beta)+' - MALA, '+str(Nsteps)+' steps')\n",
        "plt.show()"
      ],
      "execution_count": 0,
      "outputs": []
    },
    {
      "metadata": {
        "id": "wQ4hU5UzyyxK",
        "colab_type": "text"
      },
      "cell_type": "markdown",
      "source": [
        "## KL convergence and L2 error"
      ]
    },
    {
      "metadata": {
        "id": "sWROTWPzy0uS",
        "colab_type": "code",
        "colab": {}
      },
      "cell_type": "code",
      "source": [
        "q0 = np.zeros([3000,1])\n",
        "h_range = np.linspace(0.001,0.04, 100)\n",
        "T = 2*10**1\n",
        "\n",
        "KL_EM = np.zeros(len(h_range))\n",
        "KL_Heun = np.zeros(len(h_range))\n",
        "KL_MALA = np.zeros(len(h_range))\n",
        "\n",
        "L2_EM = np.zeros(len(h_range))\n",
        "L2_Heun = np.zeros(len(h_range))\n",
        "L2_MALA = np.zeros(len(h_range))\n",
        "\n",
        "beta = 1\n",
        "\n",
        "Z_beta = 0.5*np.pi*np.exp(-beta)*(special.iv(-0.25,beta) + special.iv(0.25,beta)) # using wolfram alpha\n",
        "\n",
        "\n",
        "i=0\n",
        "err_EM = np.zeros([len(h_range),q0.shape[1]])\n",
        "err_MALA = np.zeros([len(h_range),q0.shape[1]])\n",
        "err_Heun = np.zeros([len(h_range),q0.shape[1]])\n",
        "\n",
        "for h in h_range:\n",
        "    print(h)\n",
        "    Nsteps = 1000\n",
        "    \n",
        "    start_time = datetime.datetime.now()\n",
        "    q_traj_EM, t_traj, acc = run_simulation( q0 , Nsteps, h,  EulerMaruyama, DoubleWellForce, Y, beta)\n",
        "    end_time = datetime.datetime.now()\n",
        "    print('EM done')\n",
        "    print('time taken:'+str(end_time-start_time))\n",
        "    \n",
        "    start_time = datetime.datetime.now()\n",
        "    q_traj_MALA, t_traj, acc= run_simulation( q0 , Nsteps, h,  MALA, DoubleWellForce, Y, beta)\n",
        "    end_time = datetime.datetime.now()\n",
        "    print('MALA done')\n",
        "    print('time taken:'+str(end_time-start_time))\n",
        "    \n",
        "    start_time = datetime.datetime.now()\n",
        "    q_traj_Heun, t_traj, acc = run_simulation( q0 , Nsteps, h,  Heun, DoubleWellForce, Y, beta)\n",
        "    end_time = datetime.datetime.now()\n",
        "    print('Heun done')\n",
        "    print('time taken:'+str(end_time-start_time))\n",
        "\n",
        "    \n",
        "    histogram,bins = np.histogram(q_traj_EM,bins=50,density=True)\n",
        "    midx = (bins[0:-1]+bins[1:])/2\n",
        "    a = 2*(midx**2-1)**2\n",
        "    rho = np.exp(- beta * a ) / Z_beta\n",
        "    L2_EM[i] = np.linalg.norm(histogram-rho)\n",
        "    KL_EM[i] = stats.entropy(rho, histogram)\n",
        "\n",
        "    \n",
        "    q_span = np.linspace(-2.5, 2.5,100)\n",
        "    Uq = 2*(q_span**2-1)**2\n",
        "    rho = np.exp(- beta * Uq ) / Z_beta\n",
        "    \n",
        "    histogram,bins = np.histogram(q_traj_MALA,bins=50,density=True)\n",
        "    midx = (bins[0:-1]+bins[1:])/2\n",
        "    a = 2*(midx**2-1)**2\n",
        "    rho = np.exp(- beta * a ) / Z_beta\n",
        "    L2_MALA[i] = np.linalg.norm(histogram-rho)\n",
        "    KL_MALA[i] = stats.entropy(rho, histogram)\n",
        "    \n",
        "    histogram,bins = np.histogram(q_traj_Heun,bins=50,density=True)\n",
        "    midx = (bins[0:-1]+bins[1:])/2\n",
        "    a = 2*(midx**2-1)**2\n",
        "    rho = np.exp(- beta * a ) / Z_beta\n",
        "    L2_Heun[i] = np.linalg.norm(histogram-rho)\n",
        "    KL_Heun[i] = stats.entropy(rho, histogram)\n",
        "    \n",
        "    i+=1"
      ],
      "execution_count": 0,
      "outputs": []
    },
    {
      "metadata": {
        "id": "bEzh6g6BzWsV",
        "colab_type": "code",
        "colab": {}
      },
      "cell_type": "code",
      "source": [
        "# Plotting KL divergence\n",
        "fig = plt.figure(figsize = [8,6])\n",
        "plt.semilogy(h_range, pow(np.array(h_range), 1),'b--', label = '$O(h^2)$')\n",
        "plt.semilogy(h_range, pow(np.array(h_range), 4),'g--', label = '$O(h^4)$')\n",
        "plt.scatter(h_range, KL_EM, label = 'EM')\n",
        "plt.scatter(h_range, KL_MALA, label = 'MALA')\n",
        "plt.scatter(h_range, KL_Heun, label = 'Heun')\n",
        "plt.title('$L_2$ Error- Double Well \\n beta={} \\n Nsteps = {}'.format(beta, Nsteps))\n",
        "plt.xlabel('Stepsize')\n",
        "plt.ylabel('$L_2$ Error')\n",
        "plt.legend()\n",
        "plt.show()\n",
        "\n",
        "\n",
        "# Plotting L_2 Error\n",
        "fig = plt.figure(figsize = [8,6])\n",
        "plt.semilogy(h_range, pow(np.array(h_range), 1),'b--', label = '$O(h)$')\n",
        "plt.semilogy(h_range, pow(np.array(h_range), 2),'g--', label = '$O(h^2)$')\n",
        "plt.scatter(h_range, L2_EM, label = 'EM')\n",
        "plt.scatter(h_range, L2_MALA, label = 'MALA')\n",
        "plt.scatter(h_range, L2_Heun, label = 'Heun')\n",
        "plt.title('$L_2$ Error- Double Well \\n beta={} \\n Nsteps = {}'.format(beta, Nsteps))\n",
        "plt.xlabel('Stepsize')\n",
        "plt.ylabel('$L_2$ Error')\n",
        "plt.legend()\n",
        "plt.show()"
      ],
      "execution_count": 0,
      "outputs": []
    },
    {
      "metadata": {
        "id": "_vW4qdIurkCH",
        "colab_type": "text"
      },
      "cell_type": "markdown",
      "source": [
        "# Bayesian Inference"
      ]
    },
    {
      "metadata": {
        "id": "yS7BWpyMrsoX",
        "colab_type": "text"
      },
      "cell_type": "markdown",
      "source": [
        "## Force function and potential energy"
      ]
    },
    {
      "metadata": {
        "id": "S80gjyeeroKP",
        "colab_type": "code",
        "colab": {}
      },
      "cell_type": "code",
      "source": [
        "def U(q,y):\n",
        "\n",
        "    walkers = q.shape[0]\n",
        "    width = q.shape[1]\n",
        "    \n",
        "    V = np.zeros(walkers)\n",
        "    m = np.mean(y)\n",
        "    s2 = np.var(y)**2\n",
        "    \n",
        "    for k in range(walkers):\n",
        "        rho_prior = np.prod([np.exp(-(m - q[k,j])**2 / s2) for j in range(width)])\n",
        "        \n",
        "        V[k] = -np.log(rho_prior) - sum([np.log(sum([np.exp(-(y[i]-q[k,j])**2/2) \n",
        "                                                     for j in range(width)])) \n",
        "                                         for i in range(len(y))])\n",
        "    \n",
        "    return V\n",
        "    \n",
        "def force(q, y):\n",
        "\n",
        "    walkers = q.shape[0]\n",
        "    width = q.shape[1]\n",
        "    \n",
        "    F = np.zeros(q.shape)\n",
        "    s2 = np.var(y)**2\n",
        "    m = np.mean(y)\n",
        "\n",
        "    for i in range(walkers):\n",
        "        denom = np.sum([(np.exp(-((y-q[i,J])**2)/2)) for J in range(width)])\n",
        "        for j in range(width):\n",
        "            F[i, j] = (m-q[i, j])/s2\n",
        "            + np.sum([(np.exp(-((y-q[i,j])**2)/2)*(y-q[i,j]))/denom])\n",
        "\n",
        "\n",
        "    return(F)"
      ],
      "execution_count": 0,
      "outputs": []
    },
    {
      "metadata": {
        "id": "iVIkoT5isU49",
        "colab_type": "text"
      },
      "cell_type": "markdown",
      "source": [
        "## Tomato data set"
      ]
    },
    {
      "metadata": {
        "id": "BOzZDJ1Zrzue",
        "colab_type": "text"
      },
      "cell_type": "markdown",
      "source": [
        "### Load data and plot the histogram"
      ]
    },
    {
      "metadata": {
        "id": "IwzxkOqJr0Xm",
        "colab_type": "code",
        "colab": {}
      },
      "cell_type": "code",
      "source": [
        "Y=np.load('tomatoes.npy')\n",
        "fig = plt.figure(figsize=[8,6])\n",
        "plt.hist(Y,bins=10, density = True, edgecolor = 'k')\n",
        "plt.title('Tomato Data')\n",
        "plt.xlabel('Mass (g)')\n",
        "plt.ylabel('Density')\n",
        "plt.show()"
      ],
      "execution_count": 0,
      "outputs": []
    },
    {
      "metadata": {
        "id": "5cF7HQiDsxJb",
        "colab_type": "text"
      },
      "cell_type": "markdown",
      "source": [
        "### Run simulation"
      ]
    },
    {
      "metadata": {
        "id": "kkZF_77MscM5",
        "colab_type": "code",
        "colab": {}
      },
      "cell_type": "code",
      "source": [
        "q0 = np.random.rand(20,3)*10+10 \n",
        "h = 0.0001 \n",
        "Nsteps = 5000\n",
        "beta = 1\n",
        "\n",
        "start_time = datetime.datetime.now()\n",
        "q_traj_EM, t_traj_EM, acc = run_simulation( q0 , Nsteps, h,  EulerMaruyama, force, Y, beta)\n",
        "end_time = datetime.datetime.now()\n",
        "print('time taken:'+str(end_time-start_time))\n",
        "\n",
        "start_time = datetime.datetime.now()\n",
        "q_traj_MALA, t_traj_MALA, acc = run_simulation( q0 , Nsteps, h, MALA, force, Y, beta)\n",
        "end_time = datetime.datetime.now()\n",
        "print('time taken:'+str(end_time-start_time))\n",
        "\n",
        "start_time = datetime.datetime.now()\n",
        "q_traj_Heun, t_traj_Heun, acc = run_simulation( q0 , Nsteps, h,  Heun, force, Y, beta)\n",
        "end_time = datetime.datetime.now()\n",
        "print('time taken:'+str(end_time-start_time))\n"
      ],
      "execution_count": 0,
      "outputs": []
    },
    {
      "metadata": {
        "id": "pcqJFgKxsz9h",
        "colab_type": "text"
      },
      "cell_type": "markdown",
      "source": [
        "### Unsorted plot"
      ]
    },
    {
      "metadata": {
        "id": "OE8qLUSHs0dL",
        "colab_type": "code",
        "colab": {}
      },
      "cell_type": "code",
      "source": [
        "fig = plt.figure(figsize=[15,4])\n",
        "max_q = np.amax(q_traj_EM)\n",
        "min_q = max(np.amin(q_traj_EM),0) # limits minimum to zero\n",
        "for i in range(q_traj_EM.shape[2]):\n",
        "    qn = q_traj_EM[:,:,i]\n",
        "    histogram,bins = np.histogram(qn,bins=50,range=[min_q,max_q], density=True)\n",
        "    midx = (bins[0:-1]+bins[1:])/2\n",
        "    plt.plot(midx,histogram,label='$\\mu$'+str(i))\n",
        "plt.title('Distribution of $\\mu$ - EM')\n",
        "plt.xlabel('$q$')\n",
        "plt.ylabel('Density')\n",
        "plt.hist(Y,bins=10,density=True)\n",
        "plt.legend()\n",
        "plt.show()\n",
        "\n",
        "fig = plt.figure(figsize=[15,4])\n",
        "max_q = np.amax(q_traj_MALA)\n",
        "min_q = max(np.amin(q_traj_MALA),0) # limits minimum to zero\n",
        "for i in range(q_traj_MALA.shape[2]):\n",
        "    qn = q_traj_MALA[:,:,i]\n",
        "    histogram,bins = np.histogram(qn,bins=50,range=[min_q,max_q], density=True)\n",
        "    midx = (bins[0:-1]+bins[1:])/2\n",
        "    plt.plot(midx,histogram,label='$\\mu$'+str(i))\n",
        "plt.title('Distribution of $\\mu$ - MALA')\n",
        "plt.xlabel('$q$')\n",
        "plt.ylabel('Density')\n",
        "plt.hist(Y,bins=10,density=True)\n",
        "plt.legend()\n",
        "plt.show()\n",
        "\n",
        "fig = plt.figure(figsize=[15,4])\n",
        "max_q = np.amax(q_traj_Heun)\n",
        "min_q = max(np.amin(q_traj_Heun),0) # limits minimum to zero\n",
        "for i in range(q_traj_Heun.shape[2]):\n",
        "    qn = q_traj_Heun[:,:,i]\n",
        "    histogram,bins = np.histogram(qn,bins=50,range=[min_q,max_q], density=True)\n",
        "    midx = (bins[0:-1]+bins[1:])/2\n",
        "    plt.plot(midx,histogram,label='$\\mu$'+str(i))\n",
        "plt.title('Distribution of $\\mu$ - Heun')\n",
        "plt.xlabel('$q$')\n",
        "plt.ylabel('Density')\n",
        "plt.hist(Y,bins=10,density=True)\n",
        "plt.legend()\n",
        "plt.show()"
      ],
      "execution_count": 0,
      "outputs": []
    },
    {
      "metadata": {
        "id": "s_eUUC12tD0I",
        "colab_type": "text"
      },
      "cell_type": "markdown",
      "source": [
        "### Sorted plot"
      ]
    },
    {
      "metadata": {
        "id": "zHDZlHhHtY0S",
        "colab_type": "code",
        "colab": {}
      },
      "cell_type": "code",
      "source": [
        "q_traj_EM_sort = np.sort(q_traj_EM, axis=2)\n",
        "fig = plt.figure(figsize=[15,4])\n",
        "max_q = np.amax(q_traj_EM)\n",
        "min_q = max(np.amin(q_traj_EM),0) # limits minimum to zero\n",
        "for i in range(q_traj_EM.shape[2]):\n",
        "    qn = q_traj_EM_sort[:,:,i]\n",
        "    histogram,bins = np.histogram(qn,bins=50,range=[min_q,max_q], density=True)\n",
        "    midx = (bins[0:-1]+bins[1:])/2\n",
        "    plt.plot(midx,histogram,label='$\\mu$'+str(i))\n",
        "plt.title('Distribution of sorted $\\mu$ - EM')\n",
        "plt.xlabel('$q$')\n",
        "plt.ylabel('Density')\n",
        "plt.hist(Y,bins=10,density=True)\n",
        "plt.legend()\n",
        "plt.show()\n",
        "\n",
        "q_traj_MALA_sort = np.sort(q_traj_MALA, axis=2)\n",
        "fig = plt.figure(figsize=[15,4])\n",
        "max_q = np.amax(q_traj_MALA)\n",
        "min_q = max(np.amin(q_traj_MALA),0) # limits minimum to zero\n",
        "for i in range(q_traj_MALA.shape[2]):\n",
        "    qn = q_traj_MALA_sort[:,:,i]\n",
        "    histogram,bins = np.histogram(qn,bins=50,range=[min_q,max_q], density=True)\n",
        "    midx = (bins[0:-1]+bins[1:])/2\n",
        "    plt.plot(midx,histogram,label='$\\mu$'+str(i))\n",
        "plt.title('Distribution of sorted $\\mu$ - MALA')\n",
        "plt.xlabel('$q$')\n",
        "plt.ylabel('Density')\n",
        "plt.hist(Y,bins=10,density=True)\n",
        "plt.legend()\n",
        "plt.show()\n",
        "\n",
        "q_traj_Heun_sort = np.sort(q_traj_Heun, axis=2)\n",
        "fig = plt.figure(figsize=[15,4])\n",
        "max_q = np.amax(q_traj_Heun)\n",
        "min_q = max(np.amin(q_traj_Heun),0) # limits minimum to zero\n",
        "for i in range(q_traj_Heun.shape[2]):\n",
        "    qn = q_traj_Heun_sort[:,:,i]\n",
        "    histogram,bins = np.histogram(qn,bins=50,range=[min_q,max_q], density=True)\n",
        "    midx = (bins[0:-1]+bins[1:])/2\n",
        "    plt.plot(midx,histogram,label='$\\mu$'+str(i))\n",
        "plt.title('Distribution of sorted $\\mu$ - Heun')\n",
        "plt.xlabel('$q$')\n",
        "plt.ylabel('Density')\n",
        "plt.hist(Y,bins=10,density=True)\n",
        "plt.legend()\n",
        "plt.show()"
      ],
      "execution_count": 0,
      "outputs": []
    },
    {
      "metadata": {
        "id": "db04sXE20WOJ",
        "colab_type": "text"
      },
      "cell_type": "markdown",
      "source": [
        "## Stamps data set"
      ]
    },
    {
      "metadata": {
        "id": "90VL1pJy0b6B",
        "colab_type": "text"
      },
      "cell_type": "markdown",
      "source": [
        "### Load data and plot the histogram"
      ]
    },
    {
      "metadata": {
        "id": "eCnUPm990eTh",
        "colab_type": "code",
        "colab": {}
      },
      "cell_type": "code",
      "source": [
        "def readData(DataFile):\n",
        "    datapoints = []\n",
        "    a = 1\n",
        "    openfile = open(DataFile, 'r')\n",
        "    for line in openfile:\n",
        "        a1 = line.split()\n",
        "        datapoints.extend(a1)\n",
        "    openfile.close()\n",
        "    return(datapoints)\n",
        "file = readData('Stamp.dat')\n",
        "Y = pd.to_numeric(list(file[1:486]))\n",
        "Groupings = pd.to_numeric(list(file[487:len(file)-1]))\n",
        "Y = Y*100\n",
        "fig = plt.figure(figsize=[8,6])\n",
        "plt.hist(Y,bins=50, density = True, edgecolor = 'k')\n",
        "plt.title('Hidalgo Stamp Data')\n",
        "plt.xlabel('Thickness (100nm)')\n",
        "plt.ylabel('Density')\n",
        "plt.show()"
      ],
      "execution_count": 0,
      "outputs": []
    },
    {
      "metadata": {
        "id": "bH029Wek03Zm",
        "colab_type": "text"
      },
      "cell_type": "markdown",
      "source": [
        "### Run simulation"
      ]
    },
    {
      "metadata": {
        "id": "OTi6db_2047u",
        "colab_type": "code",
        "colab": {}
      },
      "cell_type": "code",
      "source": [
        "q0 = np.random.rand(20,3)*10+10 \n",
        "h = 0.0001 \n",
        "Nsteps = 5000\n",
        "beta = 1\n",
        "\n",
        "start_time = datetime.datetime.now()\n",
        "q_traj_EM, t_traj_EM, acc = run_simulation( q0 , Nsteps, h,  EulerMaruyama, force, Y, beta)\n",
        "end_time = datetime.datetime.now()\n",
        "print('time taken:'+str(end_time-start_time))\n",
        "\n",
        "start_time = datetime.datetime.now()\n",
        "q_traj_MALA, t_traj_MALA, acc = run_simulation( q0 , Nsteps, h, MALA, force, Y, beta)\n",
        "end_time = datetime.datetime.now()\n",
        "print('time taken:'+str(end_time-start_time))\n",
        "\n",
        "start_time = datetime.datetime.now()\n",
        "q_traj_Heun, t_traj_Heun, acc = run_simulation( q0 , Nsteps, h,  Heun, force, Y, beta)\n",
        "end_time = datetime.datetime.now()\n",
        "print('time taken:'+str(end_time-start_time))"
      ],
      "execution_count": 0,
      "outputs": []
    },
    {
      "metadata": {
        "id": "8hYDsovy09K-",
        "colab_type": "text"
      },
      "cell_type": "markdown",
      "source": [
        "### Unsorted plot"
      ]
    },
    {
      "metadata": {
        "id": "bzDR1Xeb1Cmo",
        "colab_type": "code",
        "colab": {}
      },
      "cell_type": "code",
      "source": [
        "fig = plt.figure(figsize=[15,4])\n",
        "max_q = np.amax(q_traj_EM)\n",
        "min_q = max(np.amin(q_traj_EM),0) # limits minimum to zero\n",
        "for i in range(q_traj_EM.shape[2]):\n",
        "    qn = q_traj_EM[:,:,i]\n",
        "    histogram,bins = np.histogram(qn,bins=50,range=[min_q,max_q], density=True)\n",
        "    midx = (bins[0:-1]+bins[1:])/2\n",
        "    plt.plot(midx,histogram,label='$\\mu$'+str(i))\n",
        "plt.title('Distribution of $\\mu$ - EM')\n",
        "plt.xlabel('$q$')\n",
        "plt.ylabel('Density')\n",
        "plt.hist(Y,bins=10,density=True)\n",
        "plt.legend()\n",
        "plt.show()\n",
        "\n",
        "fig = plt.figure(figsize=[15,4])\n",
        "max_q = np.amax(q_traj_MALA)\n",
        "min_q = max(np.amin(q_traj_MALA),0) # limits minimum to zero\n",
        "for i in range(q_traj_MALA.shape[2]):\n",
        "    qn = q_traj_MALA[:,:,i]\n",
        "    histogram,bins = np.histogram(qn,bins=50,range=[min_q,max_q], density=True)\n",
        "    midx = (bins[0:-1]+bins[1:])/2\n",
        "    plt.plot(midx,histogram,label='$\\mu$'+str(i))\n",
        "plt.title('Distribution of $\\mu$ - MALA')\n",
        "plt.xlabel('$q$')\n",
        "plt.ylabel('Density')\n",
        "plt.hist(Y,bins=10,density=True)\n",
        "plt.legend()\n",
        "plt.show()\n",
        "\n",
        "fig = plt.figure(figsize=[15,4])\n",
        "max_q = np.amax(q_traj_Heun)\n",
        "min_q = max(np.amin(q_traj_Heun),0) # limits minimum to zero\n",
        "for i in range(q_traj_Heun.shape[2]):\n",
        "    qn = q_traj_Heun[:,:,i]\n",
        "    histogram,bins = np.histogram(qn,bins=50,range=[min_q,max_q], density=True)\n",
        "    midx = (bins[0:-1]+bins[1:])/2\n",
        "    plt.plot(midx,histogram,label='$\\mu$'+str(i))\n",
        "plt.title('Distribution of $\\mu$ - Heun')\n",
        "plt.xlabel('$q$')\n",
        "plt.ylabel('Density')\n",
        "plt.hist(Y,bins=10,density=True)\n",
        "plt.legend()\n",
        "plt.show()"
      ],
      "execution_count": 0,
      "outputs": []
    },
    {
      "metadata": {
        "id": "a5dLbdf21G8o",
        "colab_type": "text"
      },
      "cell_type": "markdown",
      "source": [
        "### Sorted plot"
      ]
    },
    {
      "metadata": {
        "id": "e96HnBeV1Kru",
        "colab_type": "code",
        "colab": {}
      },
      "cell_type": "code",
      "source": [
        "q_traj_EM_sort = np.sort(q_traj_EM, axis=2)\n",
        "fig = plt.figure(figsize=[15,4])\n",
        "max_q = np.amax(q_traj_EM)\n",
        "min_q = max(np.amin(q_traj_EM),0) # limits minimum to zero\n",
        "for i in range(q_traj_EM.shape[2]):\n",
        "    qn = q_traj_EM_sort[:,:,i]\n",
        "    histogram,bins = np.histogram(qn,bins=50,range=[min_q,max_q], density=True)\n",
        "    midx = (bins[0:-1]+bins[1:])/2\n",
        "    plt.plot(midx,histogram,label='$\\mu$'+str(i))\n",
        "plt.title('Distribution of sorted $\\mu$ - EM')\n",
        "plt.xlabel('$q$')\n",
        "plt.ylabel('Density')\n",
        "plt.hist(Y,bins=10,density=True)\n",
        "plt.legend()\n",
        "plt.show()\n",
        "\n",
        "q_traj_MALA_sort = np.sort(q_traj_MALA, axis=2)\n",
        "fig = plt.figure(figsize=[15,4])\n",
        "max_q = np.amax(q_traj_MALA)\n",
        "min_q = max(np.amin(q_traj_MALA),0) # limits minimum to zero\n",
        "for i in range(q_traj_MALA.shape[2]):\n",
        "    qn = q_traj_MALA_sort[:,:,i]\n",
        "    histogram,bins = np.histogram(qn,bins=50,range=[min_q,max_q], density=True)\n",
        "    midx = (bins[0:-1]+bins[1:])/2\n",
        "    plt.plot(midx,histogram,label='$\\mu$'+str(i))\n",
        "plt.title('Distribution of sorted $\\mu$ - MALA')\n",
        "plt.xlabel('$q$')\n",
        "plt.ylabel('Density')\n",
        "plt.hist(Y,bins=10,density=True)\n",
        "plt.legend()\n",
        "plt.show()\n",
        "\n",
        "q_traj_Heun_sort = np.sort(q_traj_Heun, axis=2)\n",
        "fig = plt.figure(figsize=[15,4])\n",
        "max_q = np.amax(q_traj_Heun)\n",
        "min_q = max(np.amin(q_traj_Heun),0) # limits minimum to zero\n",
        "for i in range(q_traj_Heun.shape[2]):\n",
        "    qn = q_traj_Heun_sort[:,:,i]\n",
        "    histogram,bins = np.histogram(qn,bins=50,range=[min_q,max_q], density=True)\n",
        "    midx = (bins[0:-1]+bins[1:])/2\n",
        "    plt.plot(midx,histogram,label='$\\mu$'+str(i))\n",
        "plt.title('Distribution of sorted $\\mu$ - Heun')\n",
        "plt.xlabel('$q$')\n",
        "plt.ylabel('Density')\n",
        "plt.hist(Y,bins=10,density=True)\n",
        "plt.legend()\n",
        "plt.show()"
      ],
      "execution_count": 0,
      "outputs": []
    }
  ]
}